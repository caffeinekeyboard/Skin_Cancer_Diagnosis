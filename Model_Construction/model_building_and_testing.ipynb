{
 "cells": [
  {
   "cell_type": "markdown",
   "metadata": {},
   "source": [
    "#### RESNET50 Transfer Learning Implementation on the MNIST-HAM10000 Dataset \n",
    "- We will utilize the pre-trained ResNet50 CNN Model in order to carry out diagnosis on the image data exclusively.\n",
    "- The ResNet50 implementation will yield a more accurate model but will be heavy."
   ]
  },
  {
   "cell_type": "code",
   "execution_count": null,
   "metadata": {},
   "outputs": [],
   "source": [
    "#Import Libraries\n",
    "import tensorflow as tf \n",
    "import keras as K \n",
    "from keras.preprocessing.image import ImageDataGenerator\n",
    "import matplotlib.pyplot as plt \n",
    "import numpy as np \n",
    "import pandas as pd \n",
    "import seaborn as sns "
   ]
  }
 ],
 "metadata": {
  "kernelspec": {
   "display_name": "tf",
   "language": "python",
   "name": "python3"
  },
  "language_info": {
   "name": "python",
   "version": "3.9.18"
  }
 },
 "nbformat": 4,
 "nbformat_minor": 2
}
