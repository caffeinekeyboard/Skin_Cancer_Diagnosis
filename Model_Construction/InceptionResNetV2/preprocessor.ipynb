{
 "cells": [
  {
   "cell_type": "code",
   "execution_count": 10,
   "metadata": {},
   "outputs": [],
   "source": [
    "#THIS FILE MAY ONLY BE RUN *ONCE* WHEN THE PATH \"/data/all_images\" EXISTS\n",
    "'''\n",
    "----------14 January 2024 | Aarya Bhave | Commited to Skin_Cancer_Diagnosis----------\n",
    "Before running this file locally, you must have all 10,015 HAM10000 images in a directory with path '/data/all_images/.\n",
    "This code carries out the sorting and reorganizing of all the image data in '/data/all_images/' folder.\n",
    "This code WILL DELETE '/data/all_images/' after creating the '/data/reorganized/' folder to save space.\n",
    "The '/data/reorganized/' folder will contain a proper sorted deep-copy of all the images from the original data pool.\n",
    "This file must be run with '/Model_Construction/<MODEL>' as current working directory.\n",
    "'''\n",
    "\n",
    "#IMPORT LIBRARIES :\n",
    "import pandas as pd \n",
    "import os\n",
    "import shutil\n",
    "import random\n",
    "import matplotlib.pyplot as plt\n",
    "import tqdm"
   ]
  },
  {
   "cell_type": "code",
   "execution_count": 11,
   "metadata": {},
   "outputs": [],
   "source": [
    "#Sort the images into a flow_from_dir capable folder structure\n",
    "#Create destination directory\n",
    "os.mkdir('data/reorganized_train')\n",
    "os.mkdir('data/reorganized_validation')\n",
    "os.mkdir('data/reorganized_test')\n",
    "\n",
    "#Data pool\n",
    "data_dir = os.getcwd() + \"/data/all_images/\"\n",
    "\n",
    "#Path to destination directories\n",
    "train_dir = os.getcwd() + \"/data/reorganized_train/\"\n",
    "test_dir = os.getcwd() + \"/data/reorganized_test/\"\n",
    "validation_dir = os.getcwd() + \"/data/reorganized_validation/\""
   ]
  },
  {
   "cell_type": "code",
   "execution_count": 12,
   "metadata": {},
   "outputs": [
    {
     "name": "stdout",
     "output_type": "stream",
     "text": [
      "dx\n",
      "nv       6705\n",
      "mel      1113\n",
      "bkl      1099\n",
      "bcc       514\n",
      "akiec     327\n",
      "vasc      142\n",
      "df        115\n",
      "Name: count, dtype: int64\n"
     ]
    }
   ],
   "source": [
    "#Load metadata\n",
    "metadata_frame = pd.read_csv('data/HAM10000_metadata.csv')\n",
    "\n",
    "#The dataset is skewed as follows:\n",
    "print(metadata_frame['dx'].value_counts())\n",
    "\n",
    "#Extract labels into a list\n",
    "label = metadata_frame['dx'].unique().tolist()\n",
    "label_images = []\n",
    "\n",
    "#Keep counts\n",
    "test_examples = train_examples = validation_examples = 0"
   ]
  },
  {
   "cell_type": "code",
   "execution_count": 14,
   "metadata": {},
   "outputs": [
    {
     "name": "stderr",
     "output_type": "stream",
     "text": [
      "100%|██████████| 7/7 [00:01<00:00,  3.87it/s]\n"
     ]
    }
   ],
   "source": [
    "#Copy all the images to subfolders\n",
    "for i in tqdm.tqdm(label):\n",
    "    os.mkdir(train_dir + str(i) + \"/\")\n",
    "    os.mkdir(test_dir + str(i) + \"/\")\n",
    "    os.mkdir(validation_dir + str(i) + \"/\")\n",
    "    sample = metadata_frame[metadata_frame['dx'] == i]['image_id']\n",
    "    label_images.extend(sample)\n",
    "    for id in label_images:\n",
    "        random_num = random.uniform(0, 1)\n",
    "        if(random_num<0.8):\n",
    "            #Add to training set.\n",
    "            shutil.copyfile((data_dir+\"/\"+id+\".jpg\"), (train_dir+i+\"/\"+id+\".jpg\"))\n",
    "            train_examples+=1\n",
    "            \n",
    "        elif(random_num<0.9):\n",
    "            #Add to crossvalidation set.\n",
    "            shutil.copyfile((data_dir+\"/\"+id+\".jpg\"), (validation_dir+i+\"/\"+id+\".jpg\"))\n",
    "            validation_examples+=1\n",
    "            \n",
    "        else:\n",
    "            #Add to testing set.\n",
    "            shutil.copyfile((data_dir+\"/\"+id+\".jpg\"), (test_dir+i+\"/\"+id+\".jpg\"))\n",
    "            test_examples+=1\n",
    "            \n",
    "    label_images = []"
   ]
  },
  {
   "cell_type": "code",
   "execution_count": 15,
   "metadata": {},
   "outputs": [
    {
     "data": {
      "image/png": "[encoded data removed]",
      "text/plain": [
       "<Figure size 640x480 with 1 Axes>"
      ]
     },
     "metadata": {},
     "output_type": "display_data"
    }
   ],
   "source": [
    "#Data visualization\n",
    "graph_data = {'Training' : train_examples, 'Testing' : test_examples, 'Validation' : validation_examples}\n",
    "plt.bar(list(graph_data.keys()), list(graph_data.values()), width=0.4)\n",
    "plt.xlabel(\"Data Split\")\n",
    "plt.ylabel(\"Examples\")\n",
    "plt.title(\"Train-Test-Validation Split\")\n",
    "plt.show()"
   ]
  },
  {
   "cell_type": "code",
   "execution_count": 16,
   "metadata": {},
   "outputs": [],
   "source": [
    "#Get rid of the original data pool to save space\n",
    "shutil.rmtree('data/all_images')"
   ]
  }
 ],
 "metadata": {
  "kernelspec": {
   "display_name": "tf",
   "language": "python",
   "name": "python3"
  },
  "language_info": {
   "codemirror_mode": {
    "name": "ipython",
    "version": 3
   },
   "file_extension": ".py",
   "mimetype": "text/x-python",
   "name": "python",
   "nbconvert_exporter": "python",
   "pygments_lexer": "ipython3",
   "version": "3.9.18"
  }
 },
 "nbformat": 4,
 "nbformat_minor": 2
}
