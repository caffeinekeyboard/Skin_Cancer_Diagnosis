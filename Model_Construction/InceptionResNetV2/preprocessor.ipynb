{
 "cells": [
  {
   "cell_type": "code",
   "execution_count": 13,
   "metadata": {},
   "outputs": [],
   "source": [
    "#THIS FILE MAY ONLY BE RUN *ONCE* WHEN THE PATH \"/data/all_images\" EXISTS\n",
    "'''\n",
    "----------23 January 2024 | Aarya Bhave | Commited to Skin_Cancer_Diagnosis----------\n",
    "Before running this file locally, you must have all 10,015 HAM10000 images in a directory with path '/data/all_images/.\n",
    "This code carries out the sorting and reorganizing of all the image data in '/data/all_images/' folder.\n",
    "This code WILL DELETE '/data/all_images/' after creating the '/data/reorganized/' folder to save space.\n",
    "The '/data/reorganized/' folder will contain a proper sorted deep-copy of all the images from the original data pool.\n",
    "This file must be run with '/Model_Construction/<MODEL>' as current working directory.\n",
    "'''\n",
    "\n",
    "#IMPORT LIBRARIES :\n",
    "import pandas as pd \n",
    "import os\n",
    "import shutil\n",
    "import random\n",
    "import matplotlib.pyplot as plt\n",
    "import tqdm"
   ]
  },
  {
   "cell_type": "code",
   "execution_count": 14,
   "metadata": {},
   "outputs": [],
   "source": [
    "#Sort the images into a flow_from_dir capable folder structure\n",
    "#Create destination directory\n",
    "os.mkdir('data/reorganized')\n",
    "\n",
    "#Data pool\n",
    "data_dir = os.getcwd() + \"/data/all_images/\"\n",
    "\n",
    "#Path to destination directories\n",
    "dest_dir = os.getcwd() + \"/data/reorganized/\""
   ]
  },
  {
   "cell_type": "code",
   "execution_count": 15,
   "metadata": {},
   "outputs": [
    {
     "name": "stdout",
     "output_type": "stream",
     "text": [
      "dx\n",
      "nv       6705\n",
      "mel      1113\n",
      "bkl      1099\n",
      "bcc       514\n",
      "akiec     327\n",
      "vasc      142\n",
      "df        115\n",
      "Name: count, dtype: int64\n"
     ]
    }
   ],
   "source": [
    "#Load metadata\n",
    "metadata_frame = pd.read_csv('data/HAM10000_metadata.csv')\n",
    "\n",
    "#The dataset is skewed as follows:\n",
    "print(metadata_frame['dx'].value_counts())\n",
    "\n",
    "#Extract labels into a list\n",
    "label = metadata_frame['dx'].unique().tolist()\n",
    "label_images = []\n"
   ]
  },
  {
   "cell_type": "code",
   "execution_count": 16,
   "metadata": {},
   "outputs": [
    {
     "name": "stderr",
     "output_type": "stream",
     "text": [
      "100%|██████████| 7/7 [00:02<00:00,  2.72it/s]\n"
     ]
    }
   ],
   "source": [
    "#Copy all the images to subfolders\n",
    "for i in tqdm.tqdm(label):\n",
    "    os.mkdir(dest_dir + str(i) + \"/\")\n",
    "    sample = metadata_frame[metadata_frame['dx'] == i]['image_id']\n",
    "    label_images.extend(sample)\n",
    "    for id in label_images:\n",
    "        random_num = random.uniform(0, 1)\n",
    "        #Add to data set.\n",
    "        shutil.copyfile((data_dir+\"/\"+id+\".jpg\"), (dest_dir+i+\"/\"+id+\".jpg\"))\n",
    "            \n",
    "    label_images = []"
   ]
  },
  {
   "cell_type": "code",
   "execution_count": 17,
   "metadata": {},
   "outputs": [],
   "source": [
    "#Get rid of the original data pool to save space\n",
    "shutil.rmtree('data/all_images')"
   ]
  }
 ],
 "metadata": {
  "kernelspec": {
   "display_name": "tf",
   "language": "python",
   "name": "python3"
  },
  "language_info": {
   "codemirror_mode": {
    "name": "ipython",
    "version": 3
   },
   "file_extension": ".py",
   "mimetype": "text/x-python",
   "name": "python",
   "nbconvert_exporter": "python",
   "pygments_lexer": "ipython3",
   "version": "3.9.18"
  }
 },
 "nbformat": 4,
 "nbformat_minor": 2
}
